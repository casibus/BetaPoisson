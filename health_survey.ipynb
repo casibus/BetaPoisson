{
 "cells": [
  {
   "cell_type": "code",
   "execution_count": 1,
   "id": "f2c45122",
   "metadata": {},
   "outputs": [
    {
     "name": "stderr",
     "output_type": "stream",
     "text": [
      "c:\\projects\\betapoisson\\venv\\lib\\site-packages\\pandas\\io\\sas\\sas_xport.py:475: PerformanceWarning: DataFrame is highly fragmented.  This is usually the result of calling `frame.insert` many times, which has poor performance.  Consider joining all columns at once using pd.concat(axis=1) instead.  To get a de-fragmented frame, use `newframe = frame.copy()`\n",
      "  df[x] = v\n"
     ]
    }
   ],
   "source": [
    "import pandas\n",
    "df = pandas.read_sas(r\"C:\\Users\\Johannes.Nagele\\Downloads\\LLCP2020XPT\\LLCP2020.xpt\")"
   ]
  },
  {
   "cell_type": "code",
   "execution_count": 56,
   "id": "2fd77488",
   "metadata": {},
   "outputs": [
    {
     "name": "stderr",
     "output_type": "stream",
     "text": [
      "c:\\projects\\betapoisson\\venv\\lib\\site-packages\\pandas\\core\\indexing.py:1732: SettingWithCopyWarning: \n",
      "A value is trying to be set on a copy of a slice from a DataFrame\n",
      "\n",
      "See the caveats in the documentation: https://pandas.pydata.org/pandas-docs/stable/user_guide/indexing.html#returning-a-view-versus-a-copy\n",
      "  self._setitem_single_block(indexer, value, name)\n"
     ]
    }
   ],
   "source": [
    "df['AVEDRNK3'].iloc[df['AVEDRNK3'] == 88] = 0\n",
    "df['PHYSHLTH'].iloc[df['PHYSHLTH'] == 88] = 0\n",
    "df['FALL12MN'].iloc[df['FALL12MN'] == 88] = 0\n",
    "df['FALLINJ4'].iloc[df['FALLINJ4'] == 88] = 0\n"
   ]
  },
  {
   "cell_type": "code",
   "execution_count": 55,
   "id": "863c1b88",
   "metadata": {},
   "outputs": [
    {
     "name": "stdout",
     "output_type": "stream",
     "text": [
      "Correlated?\n"
     ]
    },
    {
     "data": {
      "image/png": "[encoded data removed]",
      "text/plain": [
       "<Figure size 432x288 with 1 Axes>"
      ]
     },
     "metadata": {
      "needs_background": "light"
     },
     "output_type": "display_data"
    }
   ],
   "source": [
    "from matplotlib import pyplot as plt\n",
    "import matplotlib as mpl\n",
    "plt.hist2d(x = df[\"AVEDRNK3\"],\n",
    "           y = df[\"FALL12MN\"],\n",
    "           range=[[-.5,20.5], [-.5,20.5]], bins = 20, norm=mpl.colors.LogNorm())\n",
    "print(\"Correlated?\")"
   ]
  },
  {
   "cell_type": "code",
   "execution_count": 58,
   "id": "f900a680",
   "metadata": {},
   "outputs": [
    {
     "data": {
      "text/plain": [
       "(array([1.297e+03, 4.770e+02, 1.160e+02, 4.500e+01, 2.000e+01, 1.600e+01,\n",
       "        1.100e+01, 3.000e+00, 4.000e+00, 1.000e+00, 5.000e+00, 1.000e+00,\n",
       "        1.000e+00, 0.000e+00, 1.000e+00, 0.000e+00, 0.000e+00, 0.000e+00,\n",
       "        0.000e+00, 1.000e+00]),\n",
       " array([-0.5 ,  0.55,  1.6 ,  2.65,  3.7 ,  4.75,  5.8 ,  6.85,  7.9 ,\n",
       "         8.95, 10.  , 11.05, 12.1 , 13.15, 14.2 , 15.25, 16.3 , 17.35,\n",
       "        18.4 , 19.45, 20.5 ]),\n",
       " <BarContainer object of 20 artists>)"
      ]
     },
     "execution_count": 58,
     "metadata": {},
     "output_type": "execute_result"
    },
    {
     "data": {
      "image/png": "[encoded data removed]",
      "text/plain": [
       "<Figure size 432x288 with 1 Axes>"
      ]
     },
     "metadata": {
      "needs_background": "light"
     },
     "output_type": "display_data"
    }
   ],
   "source": [
    "#plt.hist(df['FALL12MN'][:10000], range=[-.5,20.5], bins = 20)\n",
    "plt.hist(df['FALLINJ4'][:10000], range=[-.5,20.5], bins = 20)"
   ]
  },
  {
   "cell_type": "code",
   "execution_count": null,
   "id": "83de1090",
   "metadata": {},
   "outputs": [
    {
     "name": "stdout",
     "output_type": "stream",
     "text": [
      "===========\n",
      "FALLINJ4\n"
     ]
    },
    {
     "name": "stderr",
     "output_type": "stream",
     "text": [
      "c:\\projects\\betapoisson\\venv\\lib\\site-packages\\scipy\\optimize\\_numdiff.py:557: RuntimeWarning: invalid value encountered in subtract\n",
      "  df = fun(x) - f0\n"
     ]
    },
    {
     "name": "stdout",
     "output_type": "stream",
     "text": [
      "Poisson logLikelihood:  -95316.6438991771\n",
      "BetaPoisosn logLikelihood:  -84367.99083677107\n",
      "Poisson BIC 190644.41585514086\n",
      "betaPoisson BIC 168758.23778711547\n",
      "LR statistic:  21897.30612481205\n",
      "Since the p-value of the likelihood ratio test is close to 0 the more complex model is to be preferred!\n",
      "===========\n",
      "AVEDRNK3\n"
     ]
    },
    {
     "name": "stderr",
     "output_type": "stream",
     "text": [
      "c:\\projects\\betapoisson\\venv\\lib\\site-packages\\scipy\\optimize\\_differentialevolution.py:535: UserWarning: differential_evolution: the 'workers' keyword has overridden updating='immediate' to updating='deferred'\n",
      "  \" updating='deferred'\", UserWarning)\n"
     ]
    },
    {
     "name": "stdout",
     "output_type": "stream",
     "text": [
      "Poisson logLikelihood:  -363241.40816538275\n",
      "BetaPoisosn logLikelihood:  -361867.16805239604\n",
      "Poisson BIC 726494.9585899602\n",
      "betaPoisson BIC 723758.6206231817\n",
      "LR statistic:  2748.4802259734133\n",
      "Since the p-value of the likelihood ratio test is close to 0 the more complex model is to be preferred!\n",
      "===========\n",
      "FALL12MN\n"
     ]
    },
    {
     "name": "stderr",
     "output_type": "stream",
     "text": [
      "c:\\projects\\betapoisson\\venv\\lib\\site-packages\\scipy\\optimize\\_differentialevolution.py:535: UserWarning: differential_evolution: the 'workers' keyword has overridden updating='immediate' to updating='deferred'\n",
      "  \" updating='deferred'\", UserWarning)\n",
      "C:\\projects\\betapoisson\\betapoisson.py:40: RuntimeWarning: divide by zero encountered in log\n",
      "  return n*(gammaln(p+q) - mu_max - gammaln(p)) + np.log(mu_max)*np.sum(x) + np.sum(gammaln(p+x)) +\\\n",
      "C:\\projects\\betapoisson\\betapoisson.py:40: RuntimeWarning: invalid value encountered in double_scalars\n",
      "  return n*(gammaln(p+q) - mu_max - gammaln(p)) + np.log(mu_max)*np.sum(x) + np.sum(gammaln(p+x)) +\\\n"
     ]
    },
    {
     "name": "stdout",
     "output_type": "stream",
     "text": [
      "Poisson logLikelihood:  -440245.782019192\n",
      "BetaPoisosn logLikelihood:  -301120.99117135745\n",
      "Poisson BIC 880504.0342391222\n",
      "betaPoisson BIC 602266.9227441913\n",
      "LR statistic:  278249.5816956691\n",
      "Since the p-value of the likelihood ratio test is close to 0 the more complex model is to be preferred!\n",
      "===========\n",
      "PHYSHLTH\n"
     ]
    },
    {
     "name": "stderr",
     "output_type": "stream",
     "text": [
      "c:\\projects\\betapoisson\\venv\\lib\\site-packages\\scipy\\optimize\\_differentialevolution.py:535: UserWarning: differential_evolution: the 'workers' keyword has overridden updating='immediate' to updating='deferred'\n",
      "  \" updating='deferred'\", UserWarning)\n"
     ]
    }
   ],
   "source": [
    "from betapoisson import BetaPoisson\n",
    "import scipy\n",
    "from scipy.stats import poisson\n",
    "alpha = .01 # significance level\n",
    "\n",
    "for col in ['FALLINJ4', 'AVEDRNK3', 'FALL12MN', 'PHYSHLTH']:\n",
    "    print(\"===========\")\n",
    "    print(col)\n",
    "    y = df[col]#.iloc[:10000]\n",
    "    y = y[y<76]\n",
    "    bp = BetaPoisson()\n",
    "    res = bp.fit(y, workers = 6)\n",
    "    \n",
    "    print(\"Poisson logLikelihood: \", sum(np.log(poisson(np.mean(y)).pmf(y))))\n",
    "    print(\"BetaPoisosn logLikelihood: \", -res.fun)\n",
    "    def bic(params,y,logL):\n",
    "        return len(params)*np.log(len(y)) - 2*logL\n",
    "\n",
    "    lLog_Poisson = sum(np.log(poisson(np.mean(y)).pmf(y)))\n",
    "    lLog_BetaPoisson = -res.fun\n",
    "\n",
    "    print(\"Poisson BIC\", bic([np.mean(y)], y, lLog_Poisson))\n",
    "    print(\"betaPoisson BIC\", bic(res.x, y, lLog_BetaPoisson))\n",
    "\n",
    "    #calculate likelihood ratio Chi-Squared test statistic\n",
    "    LR_statistic = -2*(lLog_Poisson - (-res.fun))\n",
    "\n",
    "    print(\"LR statistic: \", LR_statistic)\n",
    "\n",
    "    #calculate p-value of test statistic using 1 degree of freedom (the complex model has 1 parameter more)\n",
    "    p_val = scipy.stats.chi2.sf(LR_statistic, 1)\n",
    "\n",
    "    if p_val < alpha:\n",
    "        print(\"Since the p-value of the likelihood ratio test is close to 0 the more complex model is to be preferred!\")\n",
    "    else:\n",
    "        print(\"Since the p-value of the likelihood ratio test is not below alpha the nested model is to be preferred!\")\n",
    "        \n",
    "    mu_max = res.x[0]\n",
    "    p = res.x[1]\n",
    "    q = .5\n",
    "    plt.figure()\n",
    "    plt.hist(y, range=[-.5,20.5], bins = 20, density=True)\n",
    "    plt.plot(bp.pmf(np.arange(20), mu_max,p,q))\n",
    "    plt.plot(poisson.pmf(np.arange(20), np.mean(y)))"
   ]
  },
  {
   "cell_type": "code",
   "execution_count": 95,
   "id": "b9091889",
   "metadata": {},
   "outputs": [
    {
     "data": {
      "image/png": "[encoded data removed]",
      "text/plain": [
       "<Figure size 432x288 with 1 Axes>"
      ]
     },
     "metadata": {
      "needs_background": "light"
     },
     "output_type": "display_data"
    }
   ],
   "source": [
    "import numpy as np\n",
    "mu_max = res.x[0]\n",
    "p = res.x[1]\n",
    "q = .5\n",
    "plt.hist(y, range=[-.5,20.5], bins = 20, density=True)\n",
    "plt.plot(bp.pmf(np.arange(20), mu_max,p,q))\n",
    "logL = bp.loglikelihood(y, mu_max,p,q)"
   ]
  }
 ],
 "metadata": {
  "kernelspec": {
   "display_name": "Python 3 (ipykernel)",
   "language": "python",
   "name": "python3"
  },
  "language_info": {
   "codemirror_mode": {
    "name": "ipython",
    "version": 3
   },
   "file_extension": ".py",
   "mimetype": "text/x-python",
   "name": "python",
   "nbconvert_exporter": "python",
   "pygments_lexer": "ipython3",
   "version": "3.7.4"
  }
 },
 "nbformat": 4,
 "nbformat_minor": 5
}
